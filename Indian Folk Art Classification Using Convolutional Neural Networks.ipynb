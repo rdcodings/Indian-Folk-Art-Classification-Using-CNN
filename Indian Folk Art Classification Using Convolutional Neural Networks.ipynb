{
 "cells": [
  {
   "cell_type": "markdown",
   "id": "14418e4b-8187-4ce6-b0de-def093e89e5e",
   "metadata": {},
   "source": [
    "# **Title: Indian Folk Art Classification Using Convolutional Neural Networks**\r\n",
    "\r\n",
    "## **Introduction**\r\n",
    "\r\n",
    "The classification of diverse folk art forms using image processing techniques represents a significant step forward in the digitization and preservation of cultural heritage. This project leverages the power of Convolutional Neural Networks (CNNs) to accurately classify images of various folk art styles from a curated dataset. By automating the classification process, this project aims to facilitate easier cataloging, retrieval, and analysis of folk art images, contributing to the broader field of digital humanities.\r\n",
    "\r\n",
    "## **Objectives**\r\n",
    "\r\n",
    "1. **Develop a Robust CNN Model**: Create a CNN model capable of accurately classifying images into one of 30 distinct folk art categories.\r\n",
    "2. **Implement Data Augmentation and Preprocessing**: Utilize data augmentation techniques and convert images to grayscale to improve the model's generalization capabilities.\r\n",
    "3. **Evaluate Model Performance**: Assess the model's performance using various metrics, including accuracy, confusion matrix, classification report, ROC curves, and precision-recall curves.\r\n",
    "4. **Visualize Results**: Provide comprehensive visualizations to better understand the model's performance and identify potential areas for imp## **About the Dataset**\r\n",
    "\r\n",
    "This dataset features a diverse collection of high-resolution images representing 30 traditional forms of Indian folk art. Each class in this dataset highlights the unique artistic styles and cultural heritage of different regions in India. The dataset is ideal for researchers, artists, and machine learning enthusiasts interested in cultural studies, art recognition, and pattern analysi\n",
    "\n",
    "\r\n",
    "### **Usage**:\r\n",
    "\r\n",
    "This dataset can be utilized for:\r\n",
    "- Training and testing machine learning models for image recognition and classification.\r\n",
    "- Cultural and historical research on Indian folk art.\r\n",
    "- Educational purposes to promote awareness of Indian cultural heritage.\r\n",
    "- Artistic inspiration and design purposes.\r\n",
    "\r\n",
    "### **Classes Included**:\r\n",
    "\r\n",
    "- Aipan Art (Uttarakhand)\r\n",
    "- Assamese Miniature Painting (Assam)\r\n",
    "- Basholi Painting (Jammu and Kashmir)\r\n",
    "- Bhil Painting (Madhya Pradesh)\r\n",
    "- Chamba Rumal (Himachal Pradesh)\r\n",
    "- Cheriyal Scroll Painting (Telangana)\r\n",
    "- Dokra Art (West Bengal)\r\n",
    "- Gond Painting (Madhya Pradesh)\r\n",
    "- Kalamkari Painting (Andhra Pradesh and Telangana)\r\n",
    "- Kalighat Painting (West Bengal)\r\n",
    "- Kangra Painting (Himachal Pradesh)\r\n",
    "- Kerala Mural Painting (Kerala)\r\n",
    "- Kondapalli Bommallu (Andhra Pradesh)\r\n",
    "- Kutch Lippan Art (Gujarat)\r\n",
    "- Leather Puppet Art (Andhra Pradesh)\r\n",
    "- Madhubani Painting (Bihar)\r\n",
    "- Mandala Art\r\n",
    "- Mandana Art (Rajasthan)\r\n",
    "- Mata Ni Pachedi (Gujarat)\r\n",
    "- Meenakari Painting (Rajasthan)\r\n",
    "- Mughal Paintings\r\n",
    "- Mysore Ganjifa Art (Karnataka)\r\n",
    "- Pattachitra Painting (Odisha and Bengal)\r\n",
    "- Patua Painting (West Bengal)\r\n",
    "- Pichwai Painting (Rajasthan)\r\n",
    "- Rajasthani Miniature Painting (Rajasthan)\r\n",
    "- Rogan Art from Kutch (Gujarat)\r\n",
    "- Sohrai Art (Jharkhand)\r\n",
    "- Tikuli Art (Bihar)\r\n",
    "- Warli Folk Painting (Maharashtra)\r\n",
    "\r\n",
    "### **Acknowledgements**:\r\n",
    "Special thanks to Isha Thakur who contributed to this dataset. This project aims to preserve and promote the rich cultural heritage of India through digital means.\r\n",
    "\r\n",
    "### **Tags**:\r\n",
    "Indian Folk Art, Cultural Heritage, Image Classification, Traditional Art, Art Recognition\r\n",
    "s.\r\n",
    "\r\n",
    "### **Key Features**:\r\n",
    "\r\n",
    "- **Diverse Art Forms**: Includes images from 30 different types of Indian folk art, such as Warli, Madhubani, Pattachitra, Kalamkari, and more.\r\n",
    "- **High Resolution**: All images are of high resolution, making them suitable for detailed analysis and artistic study.\r\n",
    "- **Well-Organized**: The dataset is organized into 30 classes, each representing a different form of folk art, with a dedicated folder for each art form.\r\n",
    "- **Cultural Insight**: Each image is labeled with the art form and its region of origin, providing insights into the cultural significance and tradition techniques of each style.\r\n",
    "\r\n",
    "### **Dataset Structure**:\r\n",
    "\r\n",
    "an 80-20 split.\r\n",
    "\r\n",
    "## **Methodology**\r\n",
    "\r\n",
    "1. **Data Preprocessing**:\r\n",
    "   - **Normalization**: Scale pixel values to the range [0, 1].\r\n",
    "   - **Grayscale Conversion**: Convert RGB images to grayscale using a custom preprocessing function.\r\n",
    "   - **Data Augmentation**: Apply augmentation techniques to enhance the dataset's variability.\r\n",
    "\r\n",
    "2. **Model Architecture**:\r\n",
    "   - **Convolutional Layers**: Three convolutional layers with increasing filter sizes (32, 64, 128) and ReLU activation functions.\r\n",
    "   - **Pooling Layers**: Max pooling layers to reduce the spatial dimensions.\r\n",
    "   - **Fully Connected Layers**: A dense layer with 512 neurons followed by a softmax output layer with 30 neurons.\r\n",
    "\r\n",
    "3. **Training**:\r\n",
    "   - **Optimizer**: Adam optimizer for efficient training.\r\n",
    "   - **Loss Function**: Categorical cross-entropy for multi-class classification.\r\n",
    "   - **Metrics**: Accuracy as the primary evaluation metric.\r\n",
    "\r\n",
    "4. **Evaluation and Visualization**:\r\n",
    "   - **Confusion Matrix**: Detailed view of classification performance.\r\n",
    "   - **Classification Report**: Precision, recall, and F1-score for each clating transfer learning, and expanding the dataset for improved accuracy.\r\n",
    "\r\n",
    "---\r\n",
    "\r\n",
    "**Author**: Rajarshi Das\r\n"
   ]
  },
  {
   "cell_type": "markdown",
   "id": "baeb3c5d-2471-4135-a3a9-a17d6f9311ab",
   "metadata": {},
   "source": [
    "### 1. Import Libraries and Load Data\n",
    "In this step, we import the necessary libraries and set up the data loading process. We use **ImageDataGenerator** to preprocess the images by converting them to grayscale and splitting the dataset into training and validation sets."
   ]
  },
  {
   "cell_type": "code",
   "execution_count": 8,
   "id": "2ab8daca-2b9d-4e93-9132-d840ecf99763",
   "metadata": {},
   "outputs": [
    {
     "name": "stdout",
     "output_type": "stream",
     "text": [
      "Found 25862 images belonging to 30 classes.\n",
      "Found 6448 images belonging to 30 classes.\n"
     ]
    }
   ],
   "source": [
    "import numpy as np\n",
    "import os\n",
    "import matplotlib.pyplot as plt\n",
    "from tensorflow.keras.preprocessing.image import ImageDataGenerator\n",
    "from tensorflow.keras.models import Sequential\n",
    "from tensorflow.keras.layers import Conv2D, MaxPooling2D, Flatten, Dense, Dropout\n",
    "from tensorflow.keras.optimizers import Adam\n",
    "import tensorflow as tf\n",
    "import warnings\n",
    "warnings.filterwarnings('ignore')\n",
    "\n",
    "# Set the directory paths\n",
    "dataset_path = 'C:/Users/Rajarshi Das/Downloads/archive (31)/folk-art-dataset-main/'\n",
    "\n",
    "# Custom preprocessing function to convert images to grayscale using tf.image\n",
    "def convert_to_grayscale(image):\n",
    "    # Ensure the image has 3 color channels before converting to grayscale\n",
    "    if image.shape[-1] == 3:\n",
    "        image = tf.image.rgb_to_grayscale(image)\n",
    "    return image\n",
    "\n",
    "# Initialize ImageDataGenerator for data augmentation and normalization\n",
    "datagen = ImageDataGenerator(\n",
    "    rescale=1./255,\n",
    "    validation_split=0.2,\n",
    "    preprocessing_function=convert_to_grayscale  # Apply preprocessing function\n",
    ")\n",
    "\n",
    "# Load training data\n",
    "train_generator = datagen.flow_from_directory(\n",
    "    dataset_path,\n",
    "    color_mode='rgb',  # Load images as RGB before conversion to grayscale\n",
    "    target_size=(150, 150),\n",
    "    batch_size=32,\n",
    "    class_mode='categorical',\n",
    "    subset='training'\n",
    ")\n",
    "\n",
    "# Load validation data\n",
    "validation_generator = datagen.flow_from_directory(\n",
    "    dataset_path,\n",
    "    color_mode='rgb',  # Load images as RGB before conversion to grayscale\n",
    "    target_size=(150, 150),\n",
    "    batch_size=32,\n",
    "    class_mode='categorical',\n",
    "    subset='validation'\n",
    ")"
   ]
  },
  {
   "cell_type": "markdown",
   "id": "05787af6-6d69-4c0b-8fe6-91d43a82e2a1",
   "metadata": {},
   "source": [
    "### 2. Define the CNN Model\n",
    "In this step, we define a **Convolutional Neural Network (CNN)** model using the Keras Sequential API. The model consists of three convolutional layers, each followed by a max pooling layer, to extract features from the images. After flattening the features, a fully connected (dense) layer is added, followed by an output layer with 30 units (one for each class of art forms), using the softmax activation function for classification."
   ]
  },
  {
   "cell_type": "code",
   "execution_count": 9,
   "id": "ae6856cd-42ad-429c-88dd-b681fbb15728",
   "metadata": {},
   "outputs": [],
   "source": [
    "# Define the CNN model\n",
    "model = Sequential()\n",
    "\n",
    "# First convolutional layer\n",
    "model.add(Conv2D(32, (3, 3), activation='relu', input_shape=(150, 150, 3)))\n",
    "model.add(MaxPooling2D((2, 2)))\n",
    "\n",
    "# Second convolutional layer\n",
    "model.add(Conv2D(64, (3, 3), activation='relu'))\n",
    "model.add(MaxPooling2D((2, 2)))\n",
    "\n",
    "# Third convolutional layer\n",
    "model.add(Conv2D(128, (3, 3), activation='relu'))\n",
    "model.add(MaxPooling2D((2, 2)))\n",
    "\n",
    "# Flatten the layers\n",
    "model.add(Flatten())\n",
    "\n",
    "# Fully connected layer\n",
    "model.add(Dense(512, activation='relu'))\n",
    "\n",
    "# Output layer\n",
    "model.add(Dense(30, activation='softmax'))  # 30 classes for 30 art forms\n"
   ]
  },
  {
   "cell_type": "markdown",
   "id": "ef558924-3e52-4fbe-ad0e-3e7ca282df94",
   "metadata": {},
   "source": [
    "### 3. Compile the Model\n",
    "In this step, we compile the CNN model. We use the **Adam Optimizer** for training, the categorical cross-entropy loss function because we have multiple classes, and we track accuracy as a performance metric. Compiling the model finalizes it and prepares it for training."
   ]
  },
  {
   "cell_type": "code",
   "execution_count": 10,
   "id": "e40f467e-c7c9-4e68-ae76-f0c837242b8e",
   "metadata": {},
   "outputs": [],
   "source": [
    "# Compile the model\n",
    "model.compile(optimizer=Adam(),\n",
    "              loss='categorical_crossentropy',\n",
    "              metrics=['accuracy'])\n"
   ]
  },
  {
   "cell_type": "markdown",
   "id": "ce4ffa7a-2cad-49fa-9bc6-862cdb25fe03",
   "metadata": {},
   "source": [
    "### 4. Train the Model\n",
    "In this step, we train the model using the fit method. We specify the training data generator, the number of steps per epoch, the validation data generator, and the number of epochs. The training process will iterate over the dataset for the specified number of epochs, adjusting the model parameters to minimize the loss and improve accuracy."
   ]
  },
  {
   "cell_type": "code",
   "execution_count": 11,
   "id": "fe744f72-de5e-4e4b-b955-ba6fb96e2962",
   "metadata": {},
   "outputs": [
    {
     "name": "stdout",
     "output_type": "stream",
     "text": [
      "Epoch 1/10\n",
      "808/808 [==============================] - 660s 816ms/step - loss: 2.7584 - accuracy: 0.2347 - val_loss: 2.0827 - val_accuracy: 0.4283\n",
      "Epoch 2/10\n",
      "808/808 [==============================] - 647s 800ms/step - loss: 1.4252 - accuracy: 0.6155 - val_loss: 1.3571 - val_accuracy: 0.6601\n",
      "Epoch 3/10\n",
      "808/808 [==============================] - 1096s 1s/step - loss: 0.5063 - accuracy: 0.8642 - val_loss: 1.3092 - val_accuracy: 0.7270\n",
      "Epoch 4/10\n",
      "808/808 [==============================] - 727s 900ms/step - loss: 0.1950 - accuracy: 0.9609 - val_loss: 1.4896 - val_accuracy: 0.7357\n",
      "Epoch 5/10\n",
      "808/808 [==============================] - 643s 796ms/step - loss: 0.1430 - accuracy: 0.9752 - val_loss: 1.5167 - val_accuracy: 0.7446\n",
      "Epoch 6/10\n",
      "808/808 [==============================] - 2420s 3s/step - loss: 0.1107 - accuracy: 0.9802 - val_loss: 1.5535 - val_accuracy: 0.7405\n",
      "Epoch 7/10\n",
      "808/808 [==============================] - 685s 847ms/step - loss: 0.1047 - accuracy: 0.9812 - val_loss: 1.6738 - val_accuracy: 0.7343\n",
      "Epoch 8/10\n",
      "808/808 [==============================] - 645s 798ms/step - loss: 0.0948 - accuracy: 0.9820 - val_loss: 1.7064 - val_accuracy: 0.7304\n",
      "Epoch 9/10\n",
      "808/808 [==============================] - 5145s 6s/step - loss: 0.1088 - accuracy: 0.9767 - val_loss: 1.7350 - val_accuracy: 0.7310\n",
      "Epoch 10/10\n",
      "808/808 [==============================] - 729s 902ms/step - loss: 0.0838 - accuracy: 0.9823 - val_loss: 1.6508 - val_accuracy: 0.7369\n"
     ]
    }
   ],
   "source": [
    "# Train the model\n",
    "history = model.fit(\n",
    "    train_generator,\n",
    "    steps_per_epoch=train_generator.samples // train_generator.batch_size,\n",
    "    validation_data=validation_generator,\n",
    "    validation_steps=validation_generator.samples // validation_generator.batch_size,\n",
    "    epochs=10  # Adjust the number of epochs as needed\n",
    ")\n"
   ]
  },
  {
   "cell_type": "markdown",
   "id": "434f2864-120d-4108-9f01-173de630858f",
   "metadata": {},
   "source": [
    "### 5. Evaluate the Model\n",
    "After training, we evaluate the model's performance on the validation data to determine its accuracy and loss. The evaluate method returns the loss value and metrics specified during the compilation of the model, providing an indication of how well the model performs on unseen data."
   ]
  },
  {
   "cell_type": "code",
   "execution_count": 12,
   "id": "42d83892-ad72-4483-aa50-747801e4aa78",
   "metadata": {},
   "outputs": [
    {
     "name": "stdout",
     "output_type": "stream",
     "text": [
      "202/202 [==============================] - 46s 226ms/step - loss: 1.6508 - accuracy: 0.7370\n",
      "Validation accuracy: 73.70%\n"
     ]
    }
   ],
   "source": [
    "# Evaluate the model\n",
    "loss, accuracy = model.evaluate(validation_generator)\n",
    "print(f'Validation accuracy: {accuracy*100:.2f}%')"
   ]
  },
  {
   "cell_type": "markdown",
   "id": "f3210378-e4a6-4828-9a38-73594abf7f8c",
   "metadata": {},
   "source": [
    "### 6. Plot Training & Validation Accuracy and Loss\n",
    "To visualize the performance of the model over the training epochs, we plot the training and validation accuracy and loss values. This helps in understanding how well the model is learning and if there are any signs of overfitting or underfitting. We use matplotlib to create these plots, which provide a clear comparison between training and validation metrics across epochs."
   ]
  },
  {
   "cell_type": "code",
   "execution_count": 13,
   "id": "071023b0-1e1b-4ddb-aba6-d3ad75767112",
   "metadata": {},
   "outputs": [
    {
     "data": {
      "image/png": "[encoded data removed]",
      "text/plain": [
       "<Figure size 1200x400 with 2 Axes>"
      ]
     },
     "metadata": {},
     "output_type": "display_data"
    }
   ],
   "source": [
    "# Plot training & validation accuracy values\n",
    "plt.figure(figsize=(12, 4))\n",
    "plt.subplot(1, 2, 1)\n",
    "plt.plot(history.history['accuracy'])\n",
    "plt.plot(history.history['val_accuracy'])\n",
    "plt.title('Model accuracy')\n",
    "plt.xlabel('Epoch')\n",
    "plt.ylabel('Accuracy')\n",
    "plt.legend(['Train', 'Validation'], loc='upper left')\n",
    "\n",
    "# Plot training & validation loss values\n",
    "plt.subplot(1, 2, 2)\n",
    "plt.plot(history.history['loss'])\n",
    "plt.plot(history.history['val_loss'])\n",
    "plt.title('Model loss')\n",
    "plt.xlabel('Epoch')\n",
    "plt.ylabel('Loss')\n",
    "plt.legend(['Train', 'Validation'], loc='upper left')\n",
    "\n",
    "plt.tight_layout()\n",
    "plt.show()"
   ]
  },
  {
   "cell_type": "markdown",
   "id": "6bc575c3-3afe-4dec-8e78-f07ccb3501ee",
   "metadata": {
    "jp-MarkdownHeadingCollapsed": true
   },
   "source": [
    "### Analysis and Interpretation of Model Performance\n",
    "\n",
    "**Validation Accuracy: 73.70%**\n",
    "\n",
    "This model achieved a validation accuracy of 73.70%. This indicates that the model correctly classifies around 73.7% of the validation data, which is a good starting point for a complex task like classifying 30 different forms of Indian folk art.\n",
    "\n",
    "**Accuracy Plot:**\n",
    "\n",
    "- **Training Accuracy:** The training accuracy increases rapidly and stabilizes around epoch 4, nearing 100%. This suggests that the model learns the training data very well.\n",
    "- **Validation Accuracy:** The validation accuracy also increases initially and stabilizes around 70%. The gap between training and validation accuracy suggests the model might be overfitting, as it performs significantly better on the training data compared to the validation data.\n",
    "\n",
    "**Loss Plot:**\n",
    "\n",
    "- **Training Loss:** The training loss decreases sharply, reaching near zero by epoch 4, indicating the model is fitting the training data very well.\n",
    "- **Validation Loss:** The validation loss decreases initially but starts to fluctuate and slightly increase around epoch 4. This further supports the possibility of overfitting, where the model learns the training data too well and struggles to generalize to unseen data.\n"
   ]
  },
  {
   "cell_type": "markdown",
   "id": "fb2d9666-1f73-4377-8b7e-f2c8e5ce6687",
   "metadata": {},
   "source": [
    "## **Conclusion**\n",
    "\n",
    "This project successfully demonstrates the application of CNNs in the classification of folk art images. The use of data augmentation, grayscale conversion, and a robust evaluation framework contributed to the model's performance. Future work may include exploring more advanced architectures, incorporating transfer learning, and expanding the dataset for improved accuracy.\n",
    "\n",
    "---\n",
    "\n",
    "**Author**: Rajarshi Das\n"
   ]
  }
 ],
 "metadata": {
  "kernelspec": {
   "display_name": "Python 3 (ipykernel)",
   "language": "python",
   "name": "python3"
  },
  "language_info": {
   "codemirror_mode": {
    "name": "ipython",
    "version": 3
   },
   "file_extension": ".py",
   "mimetype": "text/x-python",
   "name": "python",
   "nbconvert_exporter": "python",
   "pygments_lexer": "ipython3",
   "version": "3.9.19"
  }
 },
 "nbformat": 4,
 "nbformat_minor": 5
}
